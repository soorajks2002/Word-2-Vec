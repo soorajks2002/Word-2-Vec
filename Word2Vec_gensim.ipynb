{
  "nbformat": 4,
  "nbformat_minor": 0,
  "metadata": {
    "colab": {
      "provenance": []
    },
    "kernelspec": {
      "name": "python3",
      "display_name": "Python 3"
    },
    "language_info": {
      "name": "python"
    }
  },
  "cells": [
    {
      "cell_type": "code",
      "execution_count": 1,
      "metadata": {
        "id": "bulpIp4MG8N_"
      },
      "outputs": [],
      "source": [
        "! mkdir ~/.kaggle"
      ]
    },
    {
      "cell_type": "code",
      "source": [
        "! mv /content/kaggle.json ~/.kaggle"
      ],
      "metadata": {
        "id": "fvej4Q6QHC7x"
      },
      "execution_count": 2,
      "outputs": []
    },
    {
      "cell_type": "code",
      "source": [
        "! kaggle datasets download -d andrewmvd/trip-advisor-hotel-reviews"
      ],
      "metadata": {
        "colab": {
          "base_uri": "https://localhost:8080/"
        },
        "id": "rSBKM6DyHIEm",
        "outputId": "61c3e0fa-b8b7-48a6-9411-c237b093de42"
      },
      "execution_count": 3,
      "outputs": [
        {
          "output_type": "stream",
          "name": "stdout",
          "text": [
            "Warning: Your Kaggle API key is readable by other users on this system! To fix this, you can run 'chmod 600 /root/.kaggle/kaggle.json'\n",
            "Downloading trip-advisor-hotel-reviews.zip to /content\n",
            "  0% 0.00/5.14M [00:00<?, ?B/s]\n",
            "100% 5.14M/5.14M [00:00<00:00, 103MB/s]\n"
          ]
        }
      ]
    },
    {
      "cell_type": "code",
      "source": [
        "! unzip /content/trip-advisor-hotel-reviews.zip"
      ],
      "metadata": {
        "colab": {
          "base_uri": "https://localhost:8080/"
        },
        "id": "5HL5p8QeHKdo",
        "outputId": "a80ada3d-b074-44c0-a6ea-63d3e4f52df1"
      },
      "execution_count": 4,
      "outputs": [
        {
          "output_type": "stream",
          "name": "stdout",
          "text": [
            "Archive:  /content/trip-advisor-hotel-reviews.zip\n",
            "  inflating: tripadvisor_hotel_reviews.csv  \n"
          ]
        }
      ]
    },
    {
      "cell_type": "code",
      "source": [
        "! rm /content/trip-advisor-hotel-reviews.zip"
      ],
      "metadata": {
        "id": "1NLx372THP7_"
      },
      "execution_count": 5,
      "outputs": []
    },
    {
      "cell_type": "code",
      "source": [
        "import pandas as pd\n",
        "import nltk\n",
        "from nltk.corpus import stopwords\n",
        "import re"
      ],
      "metadata": {
        "id": "CbgA6c23HSmJ"
      },
      "execution_count": 10,
      "outputs": []
    },
    {
      "cell_type": "code",
      "source": [
        "nltk.download('stopwords')"
      ],
      "metadata": {
        "colab": {
          "base_uri": "https://localhost:8080/"
        },
        "id": "9PABCK1cIASD",
        "outputId": "b2966af4-72e0-4bea-86ea-ccc39f66083a"
      },
      "execution_count": 11,
      "outputs": [
        {
          "output_type": "stream",
          "name": "stderr",
          "text": [
            "[nltk_data] Downloading package stopwords to /root/nltk_data...\n",
            "[nltk_data]   Unzipping corpora/stopwords.zip.\n"
          ]
        },
        {
          "output_type": "execute_result",
          "data": {
            "text/plain": [
              "True"
            ]
          },
          "metadata": {},
          "execution_count": 11
        }
      ]
    },
    {
      "cell_type": "code",
      "source": [
        "df = pd.read_csv(\"/content/tripadvisor_hotel_reviews.csv\")"
      ],
      "metadata": {
        "id": "PtyE80gZHXpG"
      },
      "execution_count": 12,
      "outputs": []
    },
    {
      "cell_type": "code",
      "source": [
        "reviews_df = df['Review'].to_list()[:500]"
      ],
      "metadata": {
        "id": "UyeG7mzbHas_"
      },
      "execution_count": 13,
      "outputs": []
    },
    {
      "cell_type": "code",
      "source": [
        "reviews = []"
      ],
      "metadata": {
        "id": "YhIZz3zmIEcG"
      },
      "execution_count": 18,
      "outputs": []
    },
    {
      "cell_type": "code",
      "source": [
        "for review in reviews_df :\n",
        "  lower_case = review.lower()\n",
        "  only_alphabets = re.sub(r'[^a-zA-Z\\s]', '', lower_case)\n",
        "  no_stopwords = [word for word in only_alphabets.split() if word not in stopwords.words('english')]\n",
        "  clean_review = ' '.join(no_stopwords)\n",
        "  reviews.append(clean_review)"
      ],
      "metadata": {
        "id": "pDSidPrhHcNO"
      },
      "execution_count": 19,
      "outputs": []
    },
    {
      "cell_type": "code",
      "source": [
        "bi_grams = []"
      ],
      "metadata": {
        "id": "xGQcPYQDHiTW"
      },
      "execution_count": 20,
      "outputs": []
    },
    {
      "cell_type": "code",
      "source": [
        "for review in reviews :\n",
        "  word_list = review.split()\n",
        "  for i in range(len(word_list)-2) :\n",
        "    bi_grams.append([word_list[i],word_list[i+1]])"
      ],
      "metadata": {
        "id": "Kp59Sor1HiQH"
      },
      "execution_count": 21,
      "outputs": []
    },
    {
      "cell_type": "code",
      "source": [
        "bi_grams[:5]"
      ],
      "metadata": {
        "colab": {
          "base_uri": "https://localhost:8080/"
        },
        "id": "OH5i8BXvI4Y1",
        "outputId": "ffea574f-6a69-4433-ce75-4eec2a73c158"
      },
      "execution_count": 24,
      "outputs": [
        {
          "output_type": "execute_result",
          "data": {
            "text/plain": [
              "[['nice', 'hotel'],\n",
              " ['hotel', 'expensive'],\n",
              " ['expensive', 'parking'],\n",
              " ['parking', 'got'],\n",
              " ['got', 'good']]"
            ]
          },
          "metadata": {},
          "execution_count": 24
        }
      ]
    },
    {
      "cell_type": "code",
      "source": [
        "len(bi_grams)"
      ],
      "metadata": {
        "colab": {
          "base_uri": "https://localhost:8080/"
        },
        "id": "NkQZXkHJHrMG",
        "outputId": "225e47f5-e425-4150-e44f-454c654f1829"
      },
      "execution_count": 22,
      "outputs": [
        {
          "output_type": "execute_result",
          "data": {
            "text/plain": [
              "39923"
            ]
          },
          "metadata": {},
          "execution_count": 22
        }
      ]
    },
    {
      "cell_type": "code",
      "source": [
        "from gensim.models import Word2Vec"
      ],
      "metadata": {
        "id": "TYIZ4zU4Iyql"
      },
      "execution_count": 23,
      "outputs": []
    },
    {
      "cell_type": "code",
      "source": [
        "model = Word2Vec(sentences=bi_grams,vector_size=100)"
      ],
      "metadata": {
        "id": "n1oRUM2CIBiS"
      },
      "execution_count": 26,
      "outputs": []
    },
    {
      "cell_type": "code",
      "source": [
        "model.wv.most_similar('nice')"
      ],
      "metadata": {
        "colab": {
          "base_uri": "https://localhost:8080/"
        },
        "id": "aSFJ38vvI9vf",
        "outputId": "8c5b63be-8d75-449c-d32a-53f2559aad1c"
      },
      "execution_count": 29,
      "outputs": [
        {
          "output_type": "execute_result",
          "data": {
            "text/plain": [
              "[('hotel', 0.9984439611434937),\n",
              " ('lobby', 0.9983811974525452),\n",
              " ('rooms', 0.9983670115470886),\n",
              " ('day', 0.9983446598052979),\n",
              " ('room', 0.9982744455337524),\n",
              " ('noise', 0.9982182383537292),\n",
              " ('little', 0.9981894493103027),\n",
              " ('shower', 0.9981841444969177),\n",
              " ('bathroom', 0.9981744289398193),\n",
              " ('took', 0.9981423616409302)]"
            ]
          },
          "metadata": {},
          "execution_count": 29
        }
      ]
    },
    {
      "cell_type": "code",
      "source": [],
      "metadata": {
        "id": "RLTe8wotJun8"
      },
      "execution_count": null,
      "outputs": []
    }
  ]
}