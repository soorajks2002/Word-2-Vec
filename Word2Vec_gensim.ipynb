{
  "nbformat": 4,
  "nbformat_minor": 0,
  "metadata": {
    "colab": {
      "provenance": []
    },
    "kernelspec": {
      "name": "python3",
      "display_name": "Python 3"
    },
    "language_info": {
      "name": "python"
    }
  },
  "cells": [
    {
      "cell_type": "code",
      "execution_count": 1,
      "metadata": {
        "id": "bulpIp4MG8N_"
      },
      "outputs": [],
      "source": [
        "! mkdir ~/.kaggle"
      ]
    },
    {
      "cell_type": "code",
      "source": [
        "! mv /content/kaggle.json ~/.kaggle"
      ],
      "metadata": {
        "id": "fvej4Q6QHC7x"
      },
      "execution_count": 2,
      "outputs": []
    },
    {
      "cell_type": "code",
      "source": [
        "! kaggle datasets download -d andrewmvd/trip-advisor-hotel-reviews"
      ],
      "metadata": {
        "colab": {
          "base_uri": "https://localhost:8080/"
        },
        "id": "rSBKM6DyHIEm",
        "outputId": "61c3e0fa-b8b7-48a6-9411-c237b093de42"
      },
      "execution_count": 3,
      "outputs": [
        {
          "output_type": "stream",
          "name": "stdout",
          "text": [
            "Warning: Your Kaggle API key is readable by other users on this system! To fix this, you can run 'chmod 600 /root/.kaggle/kaggle.json'\n",
            "Downloading trip-advisor-hotel-reviews.zip to /content\n",
            "  0% 0.00/5.14M [00:00<?, ?B/s]\n",
            "100% 5.14M/5.14M [00:00<00:00, 103MB/s]\n"
          ]
        }
      ]
    },
    {
      "cell_type": "code",
      "source": [
        "! unzip /content/trip-advisor-hotel-reviews.zip"
      ],
      "metadata": {
        "colab": {
          "base_uri": "https://localhost:8080/"
        },
        "id": "5HL5p8QeHKdo",
        "outputId": "a80ada3d-b074-44c0-a6ea-63d3e4f52df1"
      },
      "execution_count": 4,
      "outputs": [
        {
          "output_type": "stream",
          "name": "stdout",
          "text": [
            "Archive:  /content/trip-advisor-hotel-reviews.zip\n",
            "  inflating: tripadvisor_hotel_reviews.csv  \n"
          ]
        }
      ]
    },
    {
      "cell_type": "code",
      "source": [
        "! rm /content/trip-advisor-hotel-reviews.zip"
      ],
      "metadata": {
        "id": "1NLx372THP7_"
      },
      "execution_count": 5,
      "outputs": []
    },
    {
      "cell_type": "code",
      "source": [
        "import pandas as pd\n",
        "import nltk\n",
        "from nltk.corpus import stopwords\n",
        "import re"
      ],
      "metadata": {
        "id": "CbgA6c23HSmJ"
      },
      "execution_count": 10,
      "outputs": []
    },
    {
      "cell_type": "code",
      "source": [
        "nltk.download('stopwords')"
      ],
      "metadata": {
        "colab": {
          "base_uri": "https://localhost:8080/"
        },
        "id": "9PABCK1cIASD",
        "outputId": "b2966af4-72e0-4bea-86ea-ccc39f66083a"
      },
      "execution_count": 11,
      "outputs": [
        {
          "output_type": "stream",
          "name": "stderr",
          "text": [
            "[nltk_data] Downloading package stopwords to /root/nltk_data...\n",
            "[nltk_data]   Unzipping corpora/stopwords.zip.\n"
          ]
        },
        {
          "output_type": "execute_result",
          "data": {
            "text/plain": [
              "True"
            ]
          },
          "metadata": {},
          "execution_count": 11
        }
      ]
    },
    {
      "cell_type": "code",
      "source": [
        "df = pd.read_csv(\"/content/tripadvisor_hotel_reviews.csv\")"
      ],
      "metadata": {
        "id": "PtyE80gZHXpG"
      },
      "execution_count": 12,
      "outputs": []
    },
    {
      "cell_type": "code",
      "source": [
        "reviews_df = df['Review'].to_list()[:500]"
      ],
      "metadata": {
        "id": "UyeG7mzbHas_"
      },
      "execution_count": 13,
      "outputs": []
    },
    {
      "cell_type": "code",
      "source": [
        "reviews = []"
      ],
      "metadata": {
        "id": "YhIZz3zmIEcG"
      },
      "execution_count": 18,
      "outputs": []
    },
    {
      "cell_type": "code",
      "source": [
        "for review in reviews_df :\n",
        "  lower_case = review.lower()\n",
        "  only_alphabets = re.sub(r'[^a-zA-Z\\s]', '', lower_case)\n",
        "  no_stopwords = [word for word in only_alphabets.split() if word not in stopwords.words('english')]\n",
        "  clean_review = ' '.join(no_stopwords)\n",
        "  reviews.append(clean_review)"
      ],
      "metadata": {
        "id": "pDSidPrhHcNO"
      },
      "execution_count": 19,
      "outputs": []
    },
    {
      "cell_type": "code",
      "source": [
        "bi_grams = []"
      ],
      "metadata": {
        "id": "xGQcPYQDHiTW"
      },
      "execution_count": 20,
      "outputs": []
    },
    {
      "cell_type": "code",
      "source": [
        "for review in reviews :\n",
        "  word_list = review.split()\n",
        "  for i in range(len(word_list)-2) :\n",
        "    bi_grams.append([word_list[i],word_list[i+1]])"
      ],
      "metadata": {
        "id": "Kp59Sor1HiQH"
      },
      "execution_count": 21,
      "outputs": []
    },
    {
      "cell_type": "code",
      "source": [
        "bi_grams[:5]"
      ],
      "metadata": {
        "colab": {
          "base_uri": "https://localhost:8080/"
        },
        "id": "OH5i8BXvI4Y1",
        "outputId": "ffea574f-6a69-4433-ce75-4eec2a73c158"
      },
      "execution_count": 24,
      "outputs": [
        {
          "output_type": "execute_result",
          "data": {
            "text/plain": [
              "[['nice', 'hotel'],\n",
              " ['hotel', 'expensive'],\n",
              " ['expensive', 'parking'],\n",
              " ['parking', 'got'],\n",
              " ['got', 'good']]"
            ]
          },
          "metadata": {},
          "execution_count": 24
        }
      ]
    },
    {
      "cell_type": "code",
      "source": [
        "len(bi_grams)"
      ],
      "metadata": {
        "colab": {
          "base_uri": "https://localhost:8080/"
        },
        "id": "NkQZXkHJHrMG",
        "outputId": "225e47f5-e425-4150-e44f-454c654f1829"
      },
      "execution_count": 22,
      "outputs": [
        {
          "output_type": "execute_result",
          "data": {
            "text/plain": [
              "39923"
            ]
          },
          "metadata": {},
          "execution_count": 22
        }
      ]
    },
    {
      "cell_type": "code",
      "source": [
        "from gensim.models import Word2Vec"
      ],
      "metadata": {
        "id": "TYIZ4zU4Iyql"
      },
      "execution_count": 23,
      "outputs": []
    },
    {
      "cell_type": "code",
      "source": [
        "model = Word2Vec(sentences=bi_grams,vector_size=50)"
      ],
      "metadata": {
        "id": "n1oRUM2CIBiS"
      },
      "execution_count": 32,
      "outputs": []
    },
    {
      "cell_type": "code",
      "source": [
        "model.wv.most_similar('nice')"
      ],
      "metadata": {
        "colab": {
          "base_uri": "https://localhost:8080/"
        },
        "id": "aSFJ38vvI9vf",
        "outputId": "39859061-64ae-4916-a212-897533353866"
      },
      "execution_count": 41,
      "outputs": [
        {
          "output_type": "execute_result",
          "data": {
            "text/plain": [
              "[('little', 0.9972478747367859),\n",
              " ('car', 0.9969267845153809),\n",
              " ('way', 0.9968863129615784),\n",
              " ('told', 0.9968736171722412),\n",
              " ('really', 0.996853232383728),\n",
              " ('day', 0.9968041777610779),\n",
              " ('like', 0.9967834949493408),\n",
              " ('wonderful', 0.9967402219772339),\n",
              " ('bathroom', 0.9967396259307861),\n",
              " ('big', 0.9967337250709534)]"
            ]
          },
          "metadata": {},
          "execution_count": 41
        }
      ]
    },
    {
      "cell_type": "code",
      "source": [
        "model.wv['night']"
      ],
      "metadata": {
        "colab": {
          "base_uri": "https://localhost:8080/"
        },
        "id": "RLTe8wotJun8",
        "outputId": "8b137b51-3990-42f5-e713-fda3d9da96e2"
      },
      "execution_count": 35,
      "outputs": [
        {
          "output_type": "execute_result",
          "data": {
            "text/plain": [
              "array([-0.01787132, -0.07761441,  0.12767285,  0.00631079, -0.1686104 ,\n",
              "       -0.29022872,  0.36211163,  0.52136445, -0.32311648, -0.1773469 ,\n",
              "       -0.13158424, -0.3184984 ,  0.15132536, -0.0260417 , -0.13552934,\n",
              "        0.17949973,  0.15483576, -0.04844181, -0.37479883, -0.2227698 ,\n",
              "        0.08916677,  0.31270808,  0.43885344, -0.12297098,  0.27843434,\n",
              "        0.063971  , -0.28746045, -0.15891424, -0.34683734,  0.04867804,\n",
              "       -0.00081049,  0.03478576,  0.00361582,  0.07509908, -0.21825035,\n",
              "        0.22119775,  0.15049565,  0.17729968,  0.06110169, -0.32685024,\n",
              "        0.34953982,  0.01339968, -0.13012044, -0.10473332,  0.5676163 ,\n",
              "        0.10962942,  0.01687583, -0.41397083,  0.3252695 ,  0.10404325],\n",
              "      dtype=float32)"
            ]
          },
          "metadata": {},
          "execution_count": 35
        }
      ]
    },
    {
      "cell_type": "code",
      "source": [
        "vector_rep = model.wv['nice'] - model.wv['expensive'] + model.wv['night']"
      ],
      "metadata": {
        "id": "9CTnKCZGMPPD"
      },
      "execution_count": 39,
      "outputs": []
    },
    {
      "cell_type": "code",
      "source": [
        "model.wv.most_similar([vector_rep])"
      ],
      "metadata": {
        "colab": {
          "base_uri": "https://localhost:8080/"
        },
        "id": "g48ZTjTTMhmq",
        "outputId": "a7669a9e-2054-4270-9f88-d334b800d14c"
      },
      "execution_count": 40,
      "outputs": [
        {
          "output_type": "execute_result",
          "data": {
            "text/plain": [
              "[('night', 0.9982230067253113),\n",
              " ('nice', 0.9976084232330322),\n",
              " ('service', 0.9969512224197388),\n",
              " ('time', 0.9963042140007019),\n",
              " ('coffee', 0.995926022529602),\n",
              " ('guests', 0.9958056807518005),\n",
              " ('pay', 0.9957482814788818),\n",
              " ('stayed', 0.9956980347633362),\n",
              " ('little', 0.9956812262535095),\n",
              " ('really', 0.9956367611885071)]"
            ]
          },
          "metadata": {},
          "execution_count": 40
        }
      ]
    },
    {
      "cell_type": "code",
      "source": [],
      "metadata": {
        "id": "oQSU0AAzMkq6"
      },
      "execution_count": null,
      "outputs": []
    }
  ]
}