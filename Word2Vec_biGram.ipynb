{
  "cells": [
    {
      "cell_type": "markdown",
      "metadata": {
        "id": "jA1xgvtXjVpF"
      },
      "source": [
        "#1. Downloading dataset form kaggle"
      ]
    },
    {
      "cell_type": "code",
      "execution_count": 1,
      "metadata": {
        "id": "nndH4Sfviqkt"
      },
      "outputs": [],
      "source": [
        "! mkdir ~/.kaggle"
      ]
    },
    {
      "cell_type": "code",
      "execution_count": 2,
      "metadata": {
        "id": "ZEDBcj-LiuFN"
      },
      "outputs": [],
      "source": [
        "! mv /content/kaggle.json ~/.kaggle/"
      ]
    },
    {
      "cell_type": "code",
      "execution_count": 3,
      "metadata": {
        "colab": {
          "base_uri": "https://localhost:8080/"
        },
        "id": "LuK3TDQZdZO1",
        "outputId": "039204a7-e826-458a-9a1b-9775b9acd12e"
      },
      "outputs": [
        {
          "output_type": "stream",
          "name": "stdout",
          "text": [
            "Warning: Your Kaggle API key is readable by other users on this system! To fix this, you can run 'chmod 600 /root/.kaggle/kaggle.json'\n",
            "Downloading trip-advisor-hotel-reviews.zip to /content\n",
            "  0% 0.00/5.14M [00:00<?, ?B/s]\n",
            "100% 5.14M/5.14M [00:00<00:00, 65.7MB/s]\n"
          ]
        }
      ],
      "source": [
        "! kaggle datasets download -d andrewmvd/trip-advisor-hotel-reviews"
      ]
    },
    {
      "cell_type": "code",
      "execution_count": 4,
      "metadata": {
        "colab": {
          "base_uri": "https://localhost:8080/"
        },
        "id": "quFBlzwbin_V",
        "outputId": "7f638290-307f-4b1d-dcc7-67a2958fb7cd"
      },
      "outputs": [
        {
          "output_type": "stream",
          "name": "stdout",
          "text": [
            "Archive:  /content/trip-advisor-hotel-reviews.zip\n",
            "  inflating: tripadvisor_hotel_reviews.csv  \n"
          ]
        }
      ],
      "source": [
        "! unzip /content/trip-advisor-hotel-reviews.zip"
      ]
    },
    {
      "cell_type": "code",
      "execution_count": 5,
      "metadata": {
        "id": "mQ-bCJfvjPTU"
      },
      "outputs": [],
      "source": [
        "! rm /content/trip-advisor-hotel-reviews.zip"
      ]
    },
    {
      "cell_type": "markdown",
      "metadata": {
        "id": "mcHALwp1jZTk"
      },
      "source": [
        "#2. Data cleaning"
      ]
    },
    {
      "cell_type": "code",
      "execution_count": 6,
      "metadata": {
        "id": "X1L1VmGzjSx8"
      },
      "outputs": [],
      "source": [
        "import pandas as pd\n",
        "import nltk\n",
        "from nltk.corpus import stopwords\n",
        "import re"
      ]
    },
    {
      "cell_type": "code",
      "execution_count": 7,
      "metadata": {
        "colab": {
          "base_uri": "https://localhost:8080/"
        },
        "id": "U8HV4Cpt3yuX",
        "outputId": "9f723d1d-3a10-4f74-a648-879c2434e789"
      },
      "outputs": [
        {
          "output_type": "stream",
          "name": "stderr",
          "text": [
            "[nltk_data] Downloading package stopwords to /root/nltk_data...\n",
            "[nltk_data]   Unzipping corpora/stopwords.zip.\n"
          ]
        },
        {
          "output_type": "execute_result",
          "data": {
            "text/plain": [
              "True"
            ]
          },
          "metadata": {},
          "execution_count": 7
        }
      ],
      "source": [
        "nltk.download('stopwords')"
      ]
    },
    {
      "cell_type": "code",
      "execution_count": 8,
      "metadata": {
        "id": "lyk0AnCYjeu0"
      },
      "outputs": [],
      "source": [
        "df = pd.read_csv(\"/content/tripadvisor_hotel_reviews.csv\")"
      ]
    },
    {
      "cell_type": "code",
      "execution_count": 9,
      "metadata": {
        "colab": {
          "base_uri": "https://localhost:8080/",
          "height": 423
        },
        "id": "lpFNzPMHjhdr",
        "outputId": "e9798fa7-5a63-408d-a1a4-f184126464f5"
      },
      "outputs": [
        {
          "output_type": "execute_result",
          "data": {
            "text/plain": [
              "                                                  Review  Rating\n",
              "0      nice hotel expensive parking got good deal sta...       4\n",
              "1      ok nothing special charge diamond member hilto...       2\n",
              "2      nice rooms not 4* experience hotel monaco seat...       3\n",
              "3      unique, great stay, wonderful time hotel monac...       5\n",
              "4      great stay great stay, went seahawk game aweso...       5\n",
              "...                                                  ...     ...\n",
              "20486  best kept secret 3rd time staying charm, not 5...       5\n",
              "20487  great location price view hotel great quick pl...       4\n",
              "20488  ok just looks nice modern outside, desk staff ...       2\n",
              "20489  hotel theft ruined vacation hotel opened sept ...       1\n",
              "20490  people talking, ca n't believe excellent ratin...       2\n",
              "\n",
              "[20491 rows x 2 columns]"
            ],
            "text/html": [
              "\n",
              "\n",
              "  <div id=\"df-05ae8362-e436-49d2-ad77-6fbe617acc53\">\n",
              "    <div class=\"colab-df-container\">\n",
              "      <div>\n",
              "<style scoped>\n",
              "    .dataframe tbody tr th:only-of-type {\n",
              "        vertical-align: middle;\n",
              "    }\n",
              "\n",
              "    .dataframe tbody tr th {\n",
              "        vertical-align: top;\n",
              "    }\n",
              "\n",
              "    .dataframe thead th {\n",
              "        text-align: right;\n",
              "    }\n",
              "</style>\n",
              "<table border=\"1\" class=\"dataframe\">\n",
              "  <thead>\n",
              "    <tr style=\"text-align: right;\">\n",
              "      <th></th>\n",
              "      <th>Review</th>\n",
              "      <th>Rating</th>\n",
              "    </tr>\n",
              "  </thead>\n",
              "  <tbody>\n",
              "    <tr>\n",
              "      <th>0</th>\n",
              "      <td>nice hotel expensive parking got good deal sta...</td>\n",
              "      <td>4</td>\n",
              "    </tr>\n",
              "    <tr>\n",
              "      <th>1</th>\n",
              "      <td>ok nothing special charge diamond member hilto...</td>\n",
              "      <td>2</td>\n",
              "    </tr>\n",
              "    <tr>\n",
              "      <th>2</th>\n",
              "      <td>nice rooms not 4* experience hotel monaco seat...</td>\n",
              "      <td>3</td>\n",
              "    </tr>\n",
              "    <tr>\n",
              "      <th>3</th>\n",
              "      <td>unique, great stay, wonderful time hotel monac...</td>\n",
              "      <td>5</td>\n",
              "    </tr>\n",
              "    <tr>\n",
              "      <th>4</th>\n",
              "      <td>great stay great stay, went seahawk game aweso...</td>\n",
              "      <td>5</td>\n",
              "    </tr>\n",
              "    <tr>\n",
              "      <th>...</th>\n",
              "      <td>...</td>\n",
              "      <td>...</td>\n",
              "    </tr>\n",
              "    <tr>\n",
              "      <th>20486</th>\n",
              "      <td>best kept secret 3rd time staying charm, not 5...</td>\n",
              "      <td>5</td>\n",
              "    </tr>\n",
              "    <tr>\n",
              "      <th>20487</th>\n",
              "      <td>great location price view hotel great quick pl...</td>\n",
              "      <td>4</td>\n",
              "    </tr>\n",
              "    <tr>\n",
              "      <th>20488</th>\n",
              "      <td>ok just looks nice modern outside, desk staff ...</td>\n",
              "      <td>2</td>\n",
              "    </tr>\n",
              "    <tr>\n",
              "      <th>20489</th>\n",
              "      <td>hotel theft ruined vacation hotel opened sept ...</td>\n",
              "      <td>1</td>\n",
              "    </tr>\n",
              "    <tr>\n",
              "      <th>20490</th>\n",
              "      <td>people talking, ca n't believe excellent ratin...</td>\n",
              "      <td>2</td>\n",
              "    </tr>\n",
              "  </tbody>\n",
              "</table>\n",
              "<p>20491 rows × 2 columns</p>\n",
              "</div>\n",
              "      <button class=\"colab-df-convert\" onclick=\"convertToInteractive('df-05ae8362-e436-49d2-ad77-6fbe617acc53')\"\n",
              "              title=\"Convert this dataframe to an interactive table.\"\n",
              "              style=\"display:none;\">\n",
              "\n",
              "  <svg xmlns=\"http://www.w3.org/2000/svg\" height=\"24px\"viewBox=\"0 0 24 24\"\n",
              "       width=\"24px\">\n",
              "    <path d=\"M0 0h24v24H0V0z\" fill=\"none\"/>\n",
              "    <path d=\"M18.56 5.44l.94 2.06.94-2.06 2.06-.94-2.06-.94-.94-2.06-.94 2.06-2.06.94zm-11 1L8.5 8.5l.94-2.06 2.06-.94-2.06-.94L8.5 2.5l-.94 2.06-2.06.94zm10 10l.94 2.06.94-2.06 2.06-.94-2.06-.94-.94-2.06-.94 2.06-2.06.94z\"/><path d=\"M17.41 7.96l-1.37-1.37c-.4-.4-.92-.59-1.43-.59-.52 0-1.04.2-1.43.59L10.3 9.45l-7.72 7.72c-.78.78-.78 2.05 0 2.83L4 21.41c.39.39.9.59 1.41.59.51 0 1.02-.2 1.41-.59l7.78-7.78 2.81-2.81c.8-.78.8-2.07 0-2.86zM5.41 20L4 18.59l7.72-7.72 1.47 1.35L5.41 20z\"/>\n",
              "  </svg>\n",
              "      </button>\n",
              "\n",
              "\n",
              "\n",
              "    <div id=\"df-84a7984d-b2bb-46ee-9690-4a30ef14c072\">\n",
              "      <button class=\"colab-df-quickchart\" onclick=\"quickchart('df-84a7984d-b2bb-46ee-9690-4a30ef14c072')\"\n",
              "              title=\"Suggest charts.\"\n",
              "              style=\"display:none;\">\n",
              "\n",
              "<svg xmlns=\"http://www.w3.org/2000/svg\" height=\"24px\"viewBox=\"0 0 24 24\"\n",
              "     width=\"24px\">\n",
              "    <g>\n",
              "        <path d=\"M19 3H5c-1.1 0-2 .9-2 2v14c0 1.1.9 2 2 2h14c1.1 0 2-.9 2-2V5c0-1.1-.9-2-2-2zM9 17H7v-7h2v7zm4 0h-2V7h2v10zm4 0h-2v-4h2v4z\"/>\n",
              "    </g>\n",
              "</svg>\n",
              "      </button>\n",
              "    </div>\n",
              "\n",
              "<style>\n",
              "  .colab-df-quickchart {\n",
              "    background-color: #E8F0FE;\n",
              "    border: none;\n",
              "    border-radius: 50%;\n",
              "    cursor: pointer;\n",
              "    display: none;\n",
              "    fill: #1967D2;\n",
              "    height: 32px;\n",
              "    padding: 0 0 0 0;\n",
              "    width: 32px;\n",
              "  }\n",
              "\n",
              "  .colab-df-quickchart:hover {\n",
              "    background-color: #E2EBFA;\n",
              "    box-shadow: 0px 1px 2px rgba(60, 64, 67, 0.3), 0px 1px 3px 1px rgba(60, 64, 67, 0.15);\n",
              "    fill: #174EA6;\n",
              "  }\n",
              "\n",
              "  [theme=dark] .colab-df-quickchart {\n",
              "    background-color: #3B4455;\n",
              "    fill: #D2E3FC;\n",
              "  }\n",
              "\n",
              "  [theme=dark] .colab-df-quickchart:hover {\n",
              "    background-color: #434B5C;\n",
              "    box-shadow: 0px 1px 3px 1px rgba(0, 0, 0, 0.15);\n",
              "    filter: drop-shadow(0px 1px 2px rgba(0, 0, 0, 0.3));\n",
              "    fill: #FFFFFF;\n",
              "  }\n",
              "</style>\n",
              "\n",
              "    <script>\n",
              "      async function quickchart(key) {\n",
              "        const containerElement = document.querySelector('#' + key);\n",
              "        const charts = await google.colab.kernel.invokeFunction(\n",
              "            'suggestCharts', [key], {});\n",
              "      }\n",
              "    </script>\n",
              "\n",
              "      <script>\n",
              "\n",
              "function displayQuickchartButton(domScope) {\n",
              "  let quickchartButtonEl =\n",
              "    domScope.querySelector('#df-84a7984d-b2bb-46ee-9690-4a30ef14c072 button.colab-df-quickchart');\n",
              "  quickchartButtonEl.style.display =\n",
              "    google.colab.kernel.accessAllowed ? 'block' : 'none';\n",
              "}\n",
              "\n",
              "        displayQuickchartButton(document);\n",
              "      </script>\n",
              "      <style>\n",
              "    .colab-df-container {\n",
              "      display:flex;\n",
              "      flex-wrap:wrap;\n",
              "      gap: 12px;\n",
              "    }\n",
              "\n",
              "    .colab-df-convert {\n",
              "      background-color: #E8F0FE;\n",
              "      border: none;\n",
              "      border-radius: 50%;\n",
              "      cursor: pointer;\n",
              "      display: none;\n",
              "      fill: #1967D2;\n",
              "      height: 32px;\n",
              "      padding: 0 0 0 0;\n",
              "      width: 32px;\n",
              "    }\n",
              "\n",
              "    .colab-df-convert:hover {\n",
              "      background-color: #E2EBFA;\n",
              "      box-shadow: 0px 1px 2px rgba(60, 64, 67, 0.3), 0px 1px 3px 1px rgba(60, 64, 67, 0.15);\n",
              "      fill: #174EA6;\n",
              "    }\n",
              "\n",
              "    [theme=dark] .colab-df-convert {\n",
              "      background-color: #3B4455;\n",
              "      fill: #D2E3FC;\n",
              "    }\n",
              "\n",
              "    [theme=dark] .colab-df-convert:hover {\n",
              "      background-color: #434B5C;\n",
              "      box-shadow: 0px 1px 3px 1px rgba(0, 0, 0, 0.15);\n",
              "      filter: drop-shadow(0px 1px 2px rgba(0, 0, 0, 0.3));\n",
              "      fill: #FFFFFF;\n",
              "    }\n",
              "  </style>\n",
              "\n",
              "      <script>\n",
              "        const buttonEl =\n",
              "          document.querySelector('#df-05ae8362-e436-49d2-ad77-6fbe617acc53 button.colab-df-convert');\n",
              "        buttonEl.style.display =\n",
              "          google.colab.kernel.accessAllowed ? 'block' : 'none';\n",
              "\n",
              "        async function convertToInteractive(key) {\n",
              "          const element = document.querySelector('#df-05ae8362-e436-49d2-ad77-6fbe617acc53');\n",
              "          const dataTable =\n",
              "            await google.colab.kernel.invokeFunction('convertToInteractive',\n",
              "                                                     [key], {});\n",
              "          if (!dataTable) return;\n",
              "\n",
              "          const docLinkHtml = 'Like what you see? Visit the ' +\n",
              "            '<a target=\"_blank\" href=https://colab.research.google.com/notebooks/data_table.ipynb>data table notebook</a>'\n",
              "            + ' to learn more about interactive tables.';\n",
              "          element.innerHTML = '';\n",
              "          dataTable['output_type'] = 'display_data';\n",
              "          await google.colab.output.renderOutput(dataTable, element);\n",
              "          const docLink = document.createElement('div');\n",
              "          docLink.innerHTML = docLinkHtml;\n",
              "          element.appendChild(docLink);\n",
              "        }\n",
              "      </script>\n",
              "    </div>\n",
              "  </div>\n"
            ]
          },
          "metadata": {},
          "execution_count": 9
        }
      ],
      "source": [
        "df"
      ]
    },
    {
      "cell_type": "code",
      "execution_count": 10,
      "metadata": {
        "id": "CBA_72H3jh3z"
      },
      "outputs": [],
      "source": [
        "reviews_df = df.Review.to_list()[:500]"
      ]
    },
    {
      "cell_type": "code",
      "execution_count": 11,
      "metadata": {
        "id": "jR6HBPAF3OVZ"
      },
      "outputs": [],
      "source": [
        "reviews = []"
      ]
    },
    {
      "cell_type": "code",
      "execution_count": 12,
      "metadata": {
        "id": "MKZgPUw3jmJc"
      },
      "outputs": [],
      "source": [
        "for review in reviews_df :\n",
        "  lower_case = review.lower()\n",
        "  only_alphabets = re.sub(r'[^a-zA-Z\\s]', '', lower_case)\n",
        "  no_stopwords = [word for word in only_alphabets.split() if word not in stopwords.words('english')]\n",
        "  clean_review = ' '.join(no_stopwords)\n",
        "  reviews.append(clean_review)"
      ]
    },
    {
      "cell_type": "code",
      "execution_count": 13,
      "metadata": {
        "colab": {
          "base_uri": "https://localhost:8080/",
          "height": 87
        },
        "id": "qZ41FIF74zJk",
        "outputId": "82b9b5d7-ca96-48b3-91de-fc05af9f07d4"
      },
      "outputs": [
        {
          "output_type": "execute_result",
          "data": {
            "text/plain": [
              "'nice hotel expensive parking got good deal stay hotel anniversary arrived late evening took advice previous reviews valet parking check quick easy little disappointed nonexistent view room room clean nice size bed comfortable woke stiff neck high pillows soundproof like heard music room night morning loud bangs doors opening closing hear people talking hallway maybe noisy neighbors aveda bath products nice goldfish stay nice touch taken advantage staying longer location great walking distance shopping overall nice experience pay parking night'"
            ],
            "application/vnd.google.colaboratory.intrinsic+json": {
              "type": "string"
            }
          },
          "metadata": {},
          "execution_count": 13
        }
      ],
      "source": [
        "reviews[0]"
      ]
    },
    {
      "cell_type": "code",
      "execution_count": 14,
      "metadata": {
        "id": "sh06LDO9653s"
      },
      "outputs": [],
      "source": [
        "unique_words = []"
      ]
    },
    {
      "cell_type": "code",
      "execution_count": 15,
      "metadata": {
        "id": "vbgPCZcy9cvD"
      },
      "outputs": [],
      "source": [
        "for review in reviews :\n",
        "  for word in review.split() :\n",
        "    if word not in unique_words :\n",
        "      unique_words.append(word)"
      ]
    },
    {
      "cell_type": "code",
      "execution_count": 16,
      "metadata": {
        "colab": {
          "base_uri": "https://localhost:8080/"
        },
        "id": "4v0NRlIT9m1C",
        "outputId": "431856f8-460b-4671-a00d-07a0a5b2e4ce"
      },
      "outputs": [
        {
          "output_type": "execute_result",
          "data": {
            "text/plain": [
              "6610"
            ]
          },
          "metadata": {},
          "execution_count": 16
        }
      ],
      "source": [
        "len(unique_words)"
      ]
    },
    {
      "cell_type": "code",
      "source": [
        "del df\n",
        "del reviews_df"
      ],
      "metadata": {
        "id": "hBewI0T5o9WL"
      },
      "execution_count": 17,
      "outputs": []
    },
    {
      "cell_type": "markdown",
      "metadata": {
        "id": "QkBX956sK-Ba"
      },
      "source": [
        "#3. Create N-grams"
      ]
    },
    {
      "cell_type": "code",
      "execution_count": 18,
      "metadata": {
        "id": "UZtg0V9RLKCq"
      },
      "outputs": [],
      "source": [
        "bi_grams = []"
      ]
    },
    {
      "cell_type": "code",
      "execution_count": 19,
      "metadata": {
        "id": "UyK--SyBLV4q"
      },
      "outputs": [],
      "source": [
        "for review in reviews :\n",
        "  word_list = review.split()\n",
        "  for i in range(len(word_list)-1) :\n",
        "    bi_grams.append([word_list[i],word_list[i+1]])"
      ]
    },
    {
      "cell_type": "code",
      "execution_count": 20,
      "metadata": {
        "colab": {
          "base_uri": "https://localhost:8080/"
        },
        "id": "_7-C-TOILV2Q",
        "outputId": "d910c3d3-2df7-4a7b-e8cb-8f909ecc3ac7"
      },
      "outputs": [
        {
          "output_type": "execute_result",
          "data": {
            "text/plain": [
              "40423"
            ]
          },
          "metadata": {},
          "execution_count": 20
        }
      ],
      "source": [
        "len(bi_grams)"
      ]
    },
    {
      "cell_type": "markdown",
      "metadata": {
        "id": "CKZ7wYqc-QJx"
      },
      "source": [
        "#4. One Hot Encoding"
      ]
    },
    {
      "cell_type": "code",
      "execution_count": 21,
      "metadata": {
        "id": "TFHMi1nYMw9p"
      },
      "outputs": [],
      "source": [
        "import numpy as np"
      ]
    },
    {
      "cell_type": "code",
      "execution_count": 22,
      "metadata": {
        "id": "RUknzZu8Mkz4"
      },
      "outputs": [],
      "source": [
        "no_unique_words = len(unique_words)"
      ]
    },
    {
      "cell_type": "code",
      "execution_count": 23,
      "metadata": {
        "id": "rD-hA_FDEEf-"
      },
      "outputs": [],
      "source": [
        "one_hot_encodings = np.zeros(shape=(no_unique_words, no_unique_words))"
      ]
    },
    {
      "cell_type": "code",
      "execution_count": 24,
      "metadata": {
        "id": "tOpNK54PMwBg"
      },
      "outputs": [],
      "source": [
        "for i in range(no_unique_words) :\n",
        "  one_hot_encodings[i][i] = 1"
      ]
    },
    {
      "cell_type": "code",
      "execution_count": 25,
      "metadata": {
        "id": "ZWnJWWFwNFmf"
      },
      "outputs": [],
      "source": [
        "encoder_dict = {}"
      ]
    },
    {
      "cell_type": "code",
      "execution_count": 26,
      "metadata": {
        "id": "iC7eNwhWN1Np"
      },
      "outputs": [],
      "source": [
        "for i, word in enumerate(unique_words) :\n",
        "  encoder_dict[word] = one_hot_encodings[i]"
      ]
    },
    {
      "cell_type": "code",
      "execution_count": 27,
      "metadata": {
        "id": "Ic7wIgpCN6f3",
        "colab": {
          "base_uri": "https://localhost:8080/"
        },
        "outputId": "4797c0fa-7a18-47fd-a692-f4dd7dd2f087"
      },
      "outputs": [
        {
          "output_type": "execute_result",
          "data": {
            "text/plain": [
              "array([1., 0., 0., ..., 0., 0., 0.])"
            ]
          },
          "metadata": {},
          "execution_count": 27
        }
      ],
      "source": [
        "encoder_dict['nice']"
      ]
    },
    {
      "cell_type": "code",
      "execution_count": 28,
      "metadata": {
        "id": "UdowJ7RMOD9n"
      },
      "outputs": [],
      "source": [
        "one_hot_bi_grams = []"
      ]
    },
    {
      "cell_type": "code",
      "execution_count": 29,
      "metadata": {
        "id": "nC8f55-YOO6f"
      },
      "outputs": [],
      "source": [
        "for i in bi_grams :\n",
        "  one_hot_bi_grams.append([encoder_dict[i[0]],encoder_dict[i[1]]])"
      ]
    },
    {
      "cell_type": "code",
      "execution_count": 30,
      "metadata": {
        "colab": {
          "base_uri": "https://localhost:8080/"
        },
        "id": "w4ks4Y9fObqn",
        "outputId": "e846adf5-163c-4b23-d276-23c7c06f2680"
      },
      "outputs": [
        {
          "output_type": "execute_result",
          "data": {
            "text/plain": [
              "[[array([1., 0., 0., ..., 0., 0., 0.]), array([0., 1., 0., ..., 0., 0., 0.])],\n",
              " [array([0., 1., 0., ..., 0., 0., 0.]), array([0., 0., 1., ..., 0., 0., 0.])],\n",
              " [array([0., 0., 1., ..., 0., 0., 0.]), array([0., 0., 0., ..., 0., 0., 0.])],\n",
              " [array([0., 0., 0., ..., 0., 0., 0.]), array([0., 0., 0., ..., 0., 0., 0.])],\n",
              " [array([0., 0., 0., ..., 0., 0., 0.]), array([0., 0., 0., ..., 0., 0., 0.])]]"
            ]
          },
          "metadata": {},
          "execution_count": 30
        }
      ],
      "source": [
        "one_hot_bi_grams[:5]"
      ]
    },
    {
      "cell_type": "markdown",
      "metadata": {
        "id": "NjJUOg2wOnSX"
      },
      "source": [
        "#5. Create Input and Output data"
      ]
    },
    {
      "cell_type": "code",
      "execution_count": 31,
      "metadata": {
        "id": "QeNUjcpaOdzX"
      },
      "outputs": [],
      "source": [
        "x_bi = []\n",
        "y_bi = []"
      ]
    },
    {
      "cell_type": "code",
      "execution_count": 32,
      "metadata": {
        "id": "tnYIoBhTOlIn"
      },
      "outputs": [],
      "source": [
        "for a,b in one_hot_bi_grams :\n",
        "  x_bi.append(a)\n",
        "  y_bi.append(b)"
      ]
    },
    {
      "cell_type": "code",
      "execution_count": 33,
      "metadata": {
        "id": "Vm_mCIw6O1Vv"
      },
      "outputs": [],
      "source": [
        "x_bi = np.array(x_bi)\n",
        "y_bi = np.array(y_bi)"
      ]
    },
    {
      "cell_type": "code",
      "source": [
        "print(\"input shape : \",x_bi.shape)\n",
        "print(\"output shape : \",y_bi.shape)"
      ],
      "metadata": {
        "colab": {
          "base_uri": "https://localhost:8080/"
        },
        "id": "uKIRW6mfpZFe",
        "outputId": "d7afb7c2-f038-4560-e21d-e9e53c26755f"
      },
      "execution_count": 34,
      "outputs": [
        {
          "output_type": "stream",
          "name": "stdout",
          "text": [
            "input shape :  (40423, 6610)\n",
            "output shape :  (40423, 6610)\n"
          ]
        }
      ]
    },
    {
      "cell_type": "markdown",
      "metadata": {
        "id": "BBgv_H3uPHep"
      },
      "source": [
        "#6. Model Creation"
      ]
    },
    {
      "cell_type": "code",
      "execution_count": 35,
      "metadata": {
        "id": "JP8N3l8ZPA6P"
      },
      "outputs": [],
      "source": [
        "import tensorflow as tf"
      ]
    },
    {
      "cell_type": "code",
      "execution_count": 36,
      "metadata": {
        "id": "u9HwPSIJPNwA"
      },
      "outputs": [],
      "source": [
        "model = tf.keras.Sequential([\n",
        "    tf.keras.layers.Input(shape=(no_unique_words)),\n",
        "    tf.keras.layers.Dense(30, activation='linear'),\n",
        "    tf.keras.layers.Dense(no_unique_words, activation='softmax'),\n",
        "])"
      ]
    },
    {
      "cell_type": "code",
      "execution_count": 37,
      "metadata": {
        "id": "N7FGSsVMPVdm"
      },
      "outputs": [],
      "source": [
        "model.compile(loss=tf.keras.losses.categorical_crossentropy, optimizer='adam')"
      ]
    },
    {
      "cell_type": "code",
      "execution_count": 39,
      "metadata": {
        "colab": {
          "base_uri": "https://localhost:8080/"
        },
        "id": "WgFQMrdzQGyt",
        "outputId": "509ca4d3-951a-4acf-d0b1-6adb1de1ec68"
      },
      "outputs": [
        {
          "output_type": "stream",
          "name": "stdout",
          "text": [
            "Epoch 1/50\n",
            "1264/1264 [==============================] - 14s 11ms/step - loss: 7.0385\n",
            "Epoch 2/50\n",
            "1264/1264 [==============================] - 14s 11ms/step - loss: 6.9141\n",
            "Epoch 3/50\n",
            "1264/1264 [==============================] - 14s 11ms/step - loss: 6.7756\n",
            "Epoch 4/50\n",
            "1264/1264 [==============================] - 15s 12ms/step - loss: 6.6221\n",
            "Epoch 5/50\n",
            "1264/1264 [==============================] - 15s 12ms/step - loss: 6.4601\n",
            "Epoch 6/50\n",
            "1264/1264 [==============================] - 15s 12ms/step - loss: 6.2918\n",
            "Epoch 7/50\n",
            "1264/1264 [==============================] - 14s 11ms/step - loss: 6.1226\n",
            "Epoch 8/50\n",
            "1264/1264 [==============================] - 14s 11ms/step - loss: 5.9538\n",
            "Epoch 9/50\n",
            "1264/1264 [==============================] - 15s 12ms/step - loss: 5.7880\n",
            "Epoch 10/50\n",
            "1264/1264 [==============================] - 14s 11ms/step - loss: 5.6272\n",
            "Epoch 11/50\n",
            "1264/1264 [==============================] - 14s 11ms/step - loss: 5.4719\n",
            "Epoch 12/50\n",
            "1264/1264 [==============================] - 14s 11ms/step - loss: 5.3236\n",
            "Epoch 13/50\n",
            "1264/1264 [==============================] - 14s 11ms/step - loss: 5.1827\n",
            "Epoch 14/50\n",
            "1264/1264 [==============================] - 14s 11ms/step - loss: 5.0494\n",
            "Epoch 15/50\n",
            "1264/1264 [==============================] - 15s 12ms/step - loss: 4.9240\n",
            "Epoch 16/50\n",
            "1264/1264 [==============================] - 15s 12ms/step - loss: 4.8065\n",
            "Epoch 17/50\n",
            "1264/1264 [==============================] - 14s 11ms/step - loss: 4.6969\n",
            "Epoch 18/50\n",
            "1264/1264 [==============================] - 14s 11ms/step - loss: 4.5948\n",
            "Epoch 19/50\n",
            "1264/1264 [==============================] - 14s 11ms/step - loss: 4.5003\n",
            "Epoch 20/50\n",
            "1264/1264 [==============================] - 15s 12ms/step - loss: 4.4130\n",
            "Epoch 21/50\n",
            "1264/1264 [==============================] - 14s 11ms/step - loss: 4.3324\n",
            "Epoch 22/50\n",
            "1264/1264 [==============================] - 15s 12ms/step - loss: 4.2588\n",
            "Epoch 23/50\n",
            "1264/1264 [==============================] - 14s 11ms/step - loss: 4.1911\n",
            "Epoch 24/50\n",
            "1264/1264 [==============================] - 14s 11ms/step - loss: 4.1296\n",
            "Epoch 25/50\n",
            "1264/1264 [==============================] - 14s 11ms/step - loss: 4.0739\n",
            "Epoch 26/50\n",
            "1264/1264 [==============================] - 14s 11ms/step - loss: 4.0232\n",
            "Epoch 27/50\n",
            "1264/1264 [==============================] - 15s 12ms/step - loss: 3.9773\n",
            "Epoch 28/50\n",
            "1264/1264 [==============================] - 14s 11ms/step - loss: 3.9356\n",
            "Epoch 29/50\n",
            "1264/1264 [==============================] - 15s 12ms/step - loss: 3.8985\n",
            "Epoch 30/50\n",
            "1264/1264 [==============================] - 16s 12ms/step - loss: 3.8642\n",
            "Epoch 31/50\n",
            "1264/1264 [==============================] - 14s 11ms/step - loss: 3.8337\n",
            "Epoch 32/50\n",
            "1264/1264 [==============================] - 14s 11ms/step - loss: 3.8062\n",
            "Epoch 33/50\n",
            "1264/1264 [==============================] - 15s 12ms/step - loss: 3.7816\n",
            "Epoch 34/50\n",
            "1264/1264 [==============================] - 14s 11ms/step - loss: 3.7590\n",
            "Epoch 35/50\n",
            "1264/1264 [==============================] - 14s 11ms/step - loss: 3.7383\n",
            "Epoch 36/50\n",
            "1264/1264 [==============================] - 15s 12ms/step - loss: 3.7196\n",
            "Epoch 37/50\n",
            "1264/1264 [==============================] - 15s 12ms/step - loss: 3.7026\n",
            "Epoch 38/50\n",
            "1264/1264 [==============================] - 15s 11ms/step - loss: 3.6871\n",
            "Epoch 39/50\n",
            "1264/1264 [==============================] - 15s 12ms/step - loss: 3.6728\n",
            "Epoch 40/50\n",
            "1264/1264 [==============================] - 15s 12ms/step - loss: 3.6596\n",
            "Epoch 41/50\n",
            "1264/1264 [==============================] - 14s 11ms/step - loss: 3.6476\n",
            "Epoch 42/50\n",
            "1264/1264 [==============================] - 15s 12ms/step - loss: 3.6366\n",
            "Epoch 43/50\n",
            "1264/1264 [==============================] - 15s 12ms/step - loss: 3.6256\n",
            "Epoch 44/50\n",
            "1264/1264 [==============================] - 14s 11ms/step - loss: 3.6155\n",
            "Epoch 45/50\n",
            "1264/1264 [==============================] - 14s 11ms/step - loss: 3.6070\n",
            "Epoch 46/50\n",
            "1264/1264 [==============================] - 15s 12ms/step - loss: 3.5980\n",
            "Epoch 47/50\n",
            "1264/1264 [==============================] - 14s 11ms/step - loss: 3.5901\n",
            "Epoch 48/50\n",
            "1264/1264 [==============================] - 14s 11ms/step - loss: 3.5821\n",
            "Epoch 49/50\n",
            "1264/1264 [==============================] - 14s 11ms/step - loss: 3.5753\n",
            "Epoch 50/50\n",
            "1264/1264 [==============================] - 15s 12ms/step - loss: 3.5682\n"
          ]
        },
        {
          "output_type": "execute_result",
          "data": {
            "text/plain": [
              "<keras.callbacks.History at 0x7c1d5c0eb970>"
            ]
          },
          "metadata": {},
          "execution_count": 39
        }
      ],
      "source": [
        "model.fit(x_bi,y_bi,epochs=50)"
      ]
    },
    {
      "cell_type": "code",
      "execution_count": 40,
      "metadata": {
        "id": "J9aeulmxRzV8"
      },
      "outputs": [],
      "source": [
        "embeddings = model.layers[0].get_weights()[0]"
      ]
    },
    {
      "cell_type": "code",
      "execution_count": 41,
      "metadata": {
        "id": "t5ytPZODloTY"
      },
      "outputs": [],
      "source": [
        "embeddings_map = {}"
      ]
    },
    {
      "cell_type": "code",
      "execution_count": 42,
      "metadata": {
        "id": "pJgf1LnqTYKJ"
      },
      "outputs": [],
      "source": [
        "for ind,word in enumerate(unique_words) :\n",
        "  embeddings_map[word] = embeddings[ind]"
      ]
    },
    {
      "cell_type": "code",
      "execution_count": 43,
      "metadata": {
        "colab": {
          "base_uri": "https://localhost:8080/"
        },
        "id": "PWafuhu-lpOn",
        "outputId": "f61fb5be-d255-46a3-d361-6e09bacbddc2"
      },
      "outputs": [
        {
          "output_type": "execute_result",
          "data": {
            "text/plain": [
              "array([-0.37790337,  0.7969814 ,  1.0657219 , -0.09547036,  0.8526467 ,\n",
              "        0.85347444,  0.28543982, -0.35873973,  0.7640771 , -1.322016  ,\n",
              "        1.2249292 ,  0.32841846,  1.3849773 , -1.3745341 , -1.0014571 ,\n",
              "        0.02455152, -0.41834834, -0.17764047,  0.27415735,  0.11781593,\n",
              "        0.52911276, -0.7739822 ,  0.46240526,  0.9457613 ,  1.0314021 ,\n",
              "        0.8492018 ,  0.02234749,  0.8849306 ,  0.5065977 , -0.37879497],\n",
              "      dtype=float32)"
            ]
          },
          "metadata": {},
          "execution_count": 43
        }
      ],
      "source": [
        "embeddings_map['nice']"
      ]
    },
    {
      "cell_type": "code",
      "source": [],
      "metadata": {
        "id": "xPTuWtPUkleR"
      },
      "execution_count": null,
      "outputs": []
    }
  ],
  "metadata": {
    "colab": {
      "provenance": []
    },
    "kernelspec": {
      "display_name": "Python 3",
      "name": "python3"
    },
    "language_info": {
      "name": "python"
    }
  },
  "nbformat": 4,
  "nbformat_minor": 0
}