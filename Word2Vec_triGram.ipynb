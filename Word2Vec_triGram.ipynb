{
  "nbformat": 4,
  "nbformat_minor": 0,
  "metadata": {
    "colab": {
      "provenance": []
    },
    "kernelspec": {
      "name": "python3",
      "display_name": "Python 3"
    },
    "language_info": {
      "name": "python"
    }
  },
  "cells": [
    {
      "cell_type": "code",
      "execution_count": 1,
      "metadata": {
        "id": "eS_qptm0hHn9"
      },
      "outputs": [],
      "source": [
        "! mkdir ~/.kaggle"
      ]
    },
    {
      "cell_type": "code",
      "source": [
        "! mv /content/kaggle.json ~/.kaggle/"
      ],
      "metadata": {
        "id": "-Roeciedxi7Q"
      },
      "execution_count": 2,
      "outputs": []
    },
    {
      "cell_type": "code",
      "source": [
        "! kaggle datasets download -d andrewmvd/trip-advisor-hotel-reviews"
      ],
      "metadata": {
        "colab": {
          "base_uri": "https://localhost:8080/"
        },
        "id": "JWQgzteCxi4f",
        "outputId": "60f623c9-cf96-4a9c-cb6a-21502731e4ac"
      },
      "execution_count": 3,
      "outputs": [
        {
          "output_type": "stream",
          "name": "stdout",
          "text": [
            "Warning: Your Kaggle API key is readable by other users on this system! To fix this, you can run 'chmod 600 /root/.kaggle/kaggle.json'\n",
            "Downloading trip-advisor-hotel-reviews.zip to /content\n",
            "  0% 0.00/5.14M [00:00<?, ?B/s]\n",
            "100% 5.14M/5.14M [00:00<00:00, 184MB/s]\n"
          ]
        }
      ]
    },
    {
      "cell_type": "code",
      "source": [
        "! unzip /content/trip-advisor-hotel-reviews.zip"
      ],
      "metadata": {
        "colab": {
          "base_uri": "https://localhost:8080/"
        },
        "id": "G8Cna5cPxi12",
        "outputId": "484d44a1-afa7-45c3-d199-09f8b7b2b8b3"
      },
      "execution_count": 4,
      "outputs": [
        {
          "output_type": "stream",
          "name": "stdout",
          "text": [
            "Archive:  /content/trip-advisor-hotel-reviews.zip\n",
            "  inflating: tripadvisor_hotel_reviews.csv  \n"
          ]
        }
      ]
    },
    {
      "cell_type": "code",
      "source": [
        "! rm /content/trip-advisor-hotel-reviews.zip"
      ],
      "metadata": {
        "id": "rBg0h7C1xizP"
      },
      "execution_count": 5,
      "outputs": []
    },
    {
      "cell_type": "markdown",
      "source": [
        "# 2. Data Cleaning"
      ],
      "metadata": {
        "id": "WqgiRggSxumm"
      }
    },
    {
      "cell_type": "code",
      "source": [
        "import pandas as pd\n",
        "import nltk\n",
        "from nltk.corpus import stopwords\n",
        "import re"
      ],
      "metadata": {
        "id": "p1hP65CjxiwX"
      },
      "execution_count": 6,
      "outputs": []
    },
    {
      "cell_type": "code",
      "source": [
        "nltk.download('stopwords')"
      ],
      "metadata": {
        "colab": {
          "base_uri": "https://localhost:8080/"
        },
        "id": "fD1D8ze_xitM",
        "outputId": "eb4baff0-a08f-4537-c825-a2de07313f6f"
      },
      "execution_count": 7,
      "outputs": [
        {
          "output_type": "stream",
          "name": "stderr",
          "text": [
            "[nltk_data] Downloading package stopwords to /root/nltk_data...\n",
            "[nltk_data]   Unzipping corpora/stopwords.zip.\n"
          ]
        },
        {
          "output_type": "execute_result",
          "data": {
            "text/plain": [
              "True"
            ]
          },
          "metadata": {},
          "execution_count": 7
        }
      ]
    },
    {
      "cell_type": "code",
      "source": [
        "df = pd.read_csv(\"/content/tripadvisor_hotel_reviews.csv\")"
      ],
      "metadata": {
        "id": "_I1l4Hi1xiqX"
      },
      "execution_count": 8,
      "outputs": []
    },
    {
      "cell_type": "code",
      "source": [
        "reviews_df = df['Review'].to_list()[:500]"
      ],
      "metadata": {
        "id": "qTjYRqtQxinv"
      },
      "execution_count": 9,
      "outputs": []
    },
    {
      "cell_type": "code",
      "source": [
        "reviews = []"
      ],
      "metadata": {
        "id": "b8QBpETHxik_"
      },
      "execution_count": 10,
      "outputs": []
    },
    {
      "cell_type": "code",
      "source": [
        "for review in reviews_df :\n",
        "  lower_case = review.lower()\n",
        "  only_alphabets = re.sub(r'[^a-zA-Z\\s]', '', lower_case)\n",
        "  no_stopwords = [word for word in only_alphabets.split() if word not in stopwords.words('english')]\n",
        "  clean_review = ' '.join(no_stopwords)\n",
        "  reviews.append(clean_review)"
      ],
      "metadata": {
        "id": "6IcC6aIuxiiG"
      },
      "execution_count": 11,
      "outputs": []
    },
    {
      "cell_type": "code",
      "source": [
        "unique_words = []"
      ],
      "metadata": {
        "id": "mhxv7yfRxie_"
      },
      "execution_count": 12,
      "outputs": []
    },
    {
      "cell_type": "code",
      "source": [
        "for review in reviews :\n",
        "  for word in review.split() :\n",
        "    if word not in unique_words :\n",
        "      unique_words.append(word)"
      ],
      "metadata": {
        "id": "Tb42m3jsxicP"
      },
      "execution_count": 13,
      "outputs": []
    },
    {
      "cell_type": "code",
      "source": [
        "len(unique_words)"
      ],
      "metadata": {
        "colab": {
          "base_uri": "https://localhost:8080/"
        },
        "id": "DDn2a9SfxiZY",
        "outputId": "3b05537a-8401-4d82-a840-f499d8c36485"
      },
      "execution_count": 14,
      "outputs": [
        {
          "output_type": "execute_result",
          "data": {
            "text/plain": [
              "6610"
            ]
          },
          "metadata": {},
          "execution_count": 14
        }
      ]
    },
    {
      "cell_type": "code",
      "source": [
        "del df\n",
        "del reviews_df"
      ],
      "metadata": {
        "id": "5EBDYLWvxiWf"
      },
      "execution_count": 15,
      "outputs": []
    },
    {
      "cell_type": "markdown",
      "source": [
        "# 3. Create Tri-grams\n"
      ],
      "metadata": {
        "id": "W9xUaRNvyQxP"
      }
    },
    {
      "cell_type": "code",
      "source": [
        "tri_grams = []"
      ],
      "metadata": {
        "id": "RfrqNK5-xiJH"
      },
      "execution_count": 16,
      "outputs": []
    },
    {
      "cell_type": "code",
      "source": [
        "for review in reviews :\n",
        "  word_list = review.split()\n",
        "  for i in range(len(word_list)-2) :\n",
        "    tri_grams.append([word_list[i],word_list[i+1],word_list[i+2]])"
      ],
      "metadata": {
        "id": "70mRw2eQxiGf"
      },
      "execution_count": 17,
      "outputs": []
    },
    {
      "cell_type": "code",
      "source": [
        "len(tri_grams)"
      ],
      "metadata": {
        "colab": {
          "base_uri": "https://localhost:8080/"
        },
        "id": "HkhVIeXuxiD3",
        "outputId": "1b370e71-e6e7-40f0-8c52-4222936d0e07"
      },
      "execution_count": 18,
      "outputs": [
        {
          "output_type": "execute_result",
          "data": {
            "text/plain": [
              "39923"
            ]
          },
          "metadata": {},
          "execution_count": 18
        }
      ]
    },
    {
      "cell_type": "markdown",
      "source": [
        "# 4. One-Hot Encoding"
      ],
      "metadata": {
        "id": "mNIDGjBfybmX"
      }
    },
    {
      "cell_type": "code",
      "source": [
        "import numpy as np"
      ],
      "metadata": {
        "id": "KLCd9PSVxiBP"
      },
      "execution_count": 19,
      "outputs": []
    },
    {
      "cell_type": "code",
      "source": [
        "no_unique_words = len(unique_words)"
      ],
      "metadata": {
        "id": "no3UFYkDxh-j"
      },
      "execution_count": 20,
      "outputs": []
    },
    {
      "cell_type": "code",
      "source": [
        "one_hot_encodings = np.zeros(shape=(no_unique_words, no_unique_words))"
      ],
      "metadata": {
        "id": "X1o6sODWxh7v"
      },
      "execution_count": 21,
      "outputs": []
    },
    {
      "cell_type": "code",
      "source": [
        "for i in range(no_unique_words) :\n",
        "  one_hot_encodings[i][i] = 1"
      ],
      "metadata": {
        "id": "2C_Z4vBrykJO"
      },
      "execution_count": 22,
      "outputs": []
    },
    {
      "cell_type": "code",
      "source": [
        "one_hot_represenation = {}"
      ],
      "metadata": {
        "id": "nm16lPTLykHC"
      },
      "execution_count": 23,
      "outputs": []
    },
    {
      "cell_type": "code",
      "source": [
        "for i, word in enumerate(unique_words) :\n",
        "  one_hot_represenation[word] = one_hot_encodings[i]"
      ],
      "metadata": {
        "id": "Ihewk3ypykEq"
      },
      "execution_count": 24,
      "outputs": []
    },
    {
      "cell_type": "code",
      "source": [
        "one_hot_tri_grams = []"
      ],
      "metadata": {
        "id": "NJjbJcWLyj_2"
      },
      "execution_count": 25,
      "outputs": []
    },
    {
      "cell_type": "code",
      "source": [
        "for i in tri_grams :\n",
        "  one_hot_tri_grams.append([one_hot_represenation[i[0]],one_hot_represenation[i[1]],one_hot_represenation[i[2]]])"
      ],
      "metadata": {
        "id": "x4LxDaGMyj9O"
      },
      "execution_count": 26,
      "outputs": []
    },
    {
      "cell_type": "code",
      "source": [
        "one_hot_tri_grams[0]"
      ],
      "metadata": {
        "colab": {
          "base_uri": "https://localhost:8080/"
        },
        "id": "vgvR_HVFyj6x",
        "outputId": "00ee2410-022a-44a6-8eec-0baa4df97a12"
      },
      "execution_count": 27,
      "outputs": [
        {
          "output_type": "execute_result",
          "data": {
            "text/plain": [
              "[array([1., 0., 0., ..., 0., 0., 0.]),\n",
              " array([0., 1., 0., ..., 0., 0., 0.]),\n",
              " array([0., 0., 1., ..., 0., 0., 0.])]"
            ]
          },
          "metadata": {},
          "execution_count": 27
        }
      ]
    },
    {
      "cell_type": "markdown",
      "source": [
        "# 5. Create Input & Output Data"
      ],
      "metadata": {
        "id": "s8hoNVU9y7Xx"
      }
    },
    {
      "cell_type": "code",
      "source": [
        "x_tri = []\n",
        "y_tri = []"
      ],
      "metadata": {
        "id": "vAV2dcmry5uF"
      },
      "execution_count": 28,
      "outputs": []
    },
    {
      "cell_type": "code",
      "source": [
        "for a,b,c in one_hot_tri_grams :\n",
        "  x_tri.append(np.add(a,c))\n",
        "  y_tri.append(b)"
      ],
      "metadata": {
        "id": "Rui7o-IUy5r9"
      },
      "execution_count": 29,
      "outputs": []
    },
    {
      "cell_type": "code",
      "source": [
        "x_tri = np.array(x_tri)\n",
        "y_tri = np.array(y_tri)"
      ],
      "metadata": {
        "id": "445qJRBjy5p2"
      },
      "execution_count": 30,
      "outputs": []
    },
    {
      "cell_type": "code",
      "source": [
        "print(\"input shape : \",x_tri.shape)\n",
        "print(\"output shape : \",y_tri.shape)"
      ],
      "metadata": {
        "colab": {
          "base_uri": "https://localhost:8080/"
        },
        "id": "woeuxQz8y5nW",
        "outputId": "02c7846e-9313-4999-bf3c-83cada2c37bc"
      },
      "execution_count": 31,
      "outputs": [
        {
          "output_type": "stream",
          "name": "stdout",
          "text": [
            "input shape :  (39923, 6610)\n",
            "output shape :  (39923, 6610)\n"
          ]
        }
      ]
    },
    {
      "cell_type": "markdown",
      "source": [
        "# 6. Model Creation"
      ],
      "metadata": {
        "id": "1nMNLeqCzIvO"
      }
    },
    {
      "cell_type": "code",
      "source": [
        "import tensorflow as tf"
      ],
      "metadata": {
        "id": "Xg8-uQ_cy5ku"
      },
      "execution_count": 32,
      "outputs": []
    },
    {
      "cell_type": "code",
      "source": [
        "model = tf.keras.Sequential([\n",
        "    tf.keras.layers.Input(shape=(no_unique_words)),\n",
        "    tf.keras.layers.Dense(30, activation='linear'),\n",
        "    tf.keras.layers.Dense(no_unique_words, activation='softmax'),\n",
        "])"
      ],
      "metadata": {
        "id": "MERKHlSly5iO"
      },
      "execution_count": 33,
      "outputs": []
    },
    {
      "cell_type": "code",
      "source": [
        "model.compile(loss=tf.keras.losses.categorical_crossentropy, optimizer='adam')"
      ],
      "metadata": {
        "id": "et3z-JcDxh5H"
      },
      "execution_count": 34,
      "outputs": []
    },
    {
      "cell_type": "code",
      "source": [
        "model.fit(x_tri,y_tri,epochs=50)"
      ],
      "metadata": {
        "colab": {
          "base_uri": "https://localhost:8080/"
        },
        "id": "j_K0TXcNzQoA",
        "outputId": "d50659a3-17b4-466a-9915-7f9e8d933d18"
      },
      "execution_count": 36,
      "outputs": [
        {
          "output_type": "stream",
          "name": "stdout",
          "text": [
            "Epoch 1/50\n",
            "1248/1248 [==============================] - 15s 12ms/step - loss: 5.8997\n",
            "Epoch 2/50\n",
            "1248/1248 [==============================] - 15s 12ms/step - loss: 5.6731\n",
            "Epoch 3/50\n",
            "1248/1248 [==============================] - 15s 12ms/step - loss: 5.4577\n",
            "Epoch 4/50\n",
            "1248/1248 [==============================] - 14s 11ms/step - loss: 5.2514\n",
            "Epoch 5/50\n",
            "1248/1248 [==============================] - 15s 12ms/step - loss: 5.0541\n",
            "Epoch 6/50\n",
            "1248/1248 [==============================] - 14s 11ms/step - loss: 4.8658\n",
            "Epoch 7/50\n",
            "1248/1248 [==============================] - 14s 11ms/step - loss: 4.6865\n",
            "Epoch 8/50\n",
            "1248/1248 [==============================] - 15s 12ms/step - loss: 4.5159\n",
            "Epoch 9/50\n",
            "1248/1248 [==============================] - 16s 13ms/step - loss: 4.3552\n",
            "Epoch 10/50\n",
            "1248/1248 [==============================] - 15s 12ms/step - loss: 4.2032\n",
            "Epoch 11/50\n",
            "1248/1248 [==============================] - 13s 11ms/step - loss: 4.0606\n",
            "Epoch 12/50\n",
            "1248/1248 [==============================] - 14s 11ms/step - loss: 3.9258\n",
            "Epoch 13/50\n",
            "1248/1248 [==============================] - 14s 11ms/step - loss: 3.7999\n",
            "Epoch 14/50\n",
            "1248/1248 [==============================] - 14s 11ms/step - loss: 3.6815\n",
            "Epoch 15/50\n",
            "1248/1248 [==============================] - 14s 11ms/step - loss: 3.5711\n",
            "Epoch 16/50\n",
            "1248/1248 [==============================] - 14s 11ms/step - loss: 3.4682\n",
            "Epoch 17/50\n",
            "1248/1248 [==============================] - 14s 11ms/step - loss: 3.3726\n",
            "Epoch 18/50\n",
            "1248/1248 [==============================] - 15s 12ms/step - loss: 3.2828\n",
            "Epoch 19/50\n",
            "1248/1248 [==============================] - 14s 11ms/step - loss: 3.1999\n",
            "Epoch 20/50\n",
            "1248/1248 [==============================] - 14s 11ms/step - loss: 3.1217\n",
            "Epoch 21/50\n",
            "1248/1248 [==============================] - 14s 11ms/step - loss: 3.0499\n",
            "Epoch 22/50\n",
            "1248/1248 [==============================] - 14s 11ms/step - loss: 2.9825\n",
            "Epoch 23/50\n",
            "1248/1248 [==============================] - 14s 11ms/step - loss: 2.9204\n",
            "Epoch 24/50\n",
            "1248/1248 [==============================] - 14s 12ms/step - loss: 2.8622\n",
            "Epoch 25/50\n",
            "1248/1248 [==============================] - 14s 12ms/step - loss: 2.8084\n",
            "Epoch 26/50\n",
            "1248/1248 [==============================] - 14s 11ms/step - loss: 2.7572\n",
            "Epoch 27/50\n",
            "1248/1248 [==============================] - 14s 11ms/step - loss: 2.7109\n",
            "Epoch 28/50\n",
            "1248/1248 [==============================] - 15s 12ms/step - loss: 2.6674\n",
            "Epoch 29/50\n",
            "1248/1248 [==============================] - 14s 11ms/step - loss: 2.6265\n",
            "Epoch 30/50\n",
            "1248/1248 [==============================] - 14s 11ms/step - loss: 2.5884\n",
            "Epoch 31/50\n",
            "1248/1248 [==============================] - 14s 11ms/step - loss: 2.5529\n",
            "Epoch 32/50\n",
            "1248/1248 [==============================] - 14s 11ms/step - loss: 2.5192\n",
            "Epoch 33/50\n",
            "1248/1248 [==============================] - 15s 12ms/step - loss: 2.4883\n",
            "Epoch 34/50\n",
            "1248/1248 [==============================] - 14s 11ms/step - loss: 2.4590\n",
            "Epoch 35/50\n",
            "1248/1248 [==============================] - 14s 11ms/step - loss: 2.4310\n",
            "Epoch 36/50\n",
            "1248/1248 [==============================] - 14s 11ms/step - loss: 2.4050\n",
            "Epoch 37/50\n",
            "1248/1248 [==============================] - 14s 11ms/step - loss: 2.3806\n",
            "Epoch 38/50\n",
            "1248/1248 [==============================] - 14s 11ms/step - loss: 2.3574\n",
            "Epoch 39/50\n",
            "1248/1248 [==============================] - 15s 12ms/step - loss: 2.3353\n",
            "Epoch 40/50\n",
            "1248/1248 [==============================] - 14s 11ms/step - loss: 2.3141\n",
            "Epoch 41/50\n",
            "1248/1248 [==============================] - 14s 11ms/step - loss: 2.2940\n",
            "Epoch 42/50\n",
            "1248/1248 [==============================] - 15s 12ms/step - loss: 2.2752\n",
            "Epoch 43/50\n",
            "1248/1248 [==============================] - 18s 14ms/step - loss: 2.2577\n",
            "Epoch 44/50\n",
            "1248/1248 [==============================] - 15s 12ms/step - loss: 2.2406\n",
            "Epoch 45/50\n",
            "1248/1248 [==============================] - 15s 12ms/step - loss: 2.2236\n",
            "Epoch 46/50\n",
            "1248/1248 [==============================] - 14s 11ms/step - loss: 2.2080\n",
            "Epoch 47/50\n",
            "1248/1248 [==============================] - 14s 11ms/step - loss: 2.1933\n",
            "Epoch 48/50\n",
            "1248/1248 [==============================] - 14s 11ms/step - loss: 2.1785\n",
            "Epoch 49/50\n",
            "1248/1248 [==============================] - 14s 11ms/step - loss: 2.1647\n",
            "Epoch 50/50\n",
            "1248/1248 [==============================] - 14s 11ms/step - loss: 2.1514\n"
          ]
        },
        {
          "output_type": "execute_result",
          "data": {
            "text/plain": [
              "<keras.callbacks.History at 0x7b3234799a80>"
            ]
          },
          "metadata": {},
          "execution_count": 36
        }
      ]
    },
    {
      "cell_type": "code",
      "source": [
        "embeddings = model.layers[0].get_weights()[0]"
      ],
      "metadata": {
        "id": "0CemrBXkzRHB"
      },
      "execution_count": 37,
      "outputs": []
    },
    {
      "cell_type": "code",
      "source": [
        "embeddings_map = {}"
      ],
      "metadata": {
        "id": "11F0z415zREu"
      },
      "execution_count": 38,
      "outputs": []
    },
    {
      "cell_type": "code",
      "source": [
        "for ind,word in enumerate(unique_words) :\n",
        "  embeddings_map[word] = embeddings[ind]"
      ],
      "metadata": {
        "id": "2snoyqrWzRCW"
      },
      "execution_count": 39,
      "outputs": []
    },
    {
      "cell_type": "code",
      "source": [
        "embeddings_map['nice']"
      ],
      "metadata": {
        "colab": {
          "base_uri": "https://localhost:8080/"
        },
        "id": "sRGeoILIzQlm",
        "outputId": "637bf64b-5922-483c-dfe2-31ef01bd651b"
      },
      "execution_count": 41,
      "outputs": [
        {
          "output_type": "execute_result",
          "data": {
            "text/plain": [
              "array([ 0.9610035 ,  0.84137595,  0.5220155 ,  0.3306154 ,  0.7863644 ,\n",
              "       -0.16529007, -0.39391565, -1.0899228 , -0.6604506 , -0.37600732,\n",
              "        0.87579614, -0.47458827,  0.15008274, -0.8018626 ,  0.3550185 ,\n",
              "       -0.7425365 , -0.833513  , -0.1387585 , -0.6511931 , -0.22809817,\n",
              "       -0.4667113 ,  0.08328058,  0.7377492 , -0.10352063, -0.3354777 ,\n",
              "       -0.22324738,  0.8464626 ,  1.0306923 , -0.1335998 , -0.0793685 ],\n",
              "      dtype=float32)"
            ]
          },
          "metadata": {},
          "execution_count": 41
        }
      ]
    },
    {
      "cell_type": "code",
      "source": [],
      "metadata": {
        "id": "Fx2PgHg-3NIb"
      },
      "execution_count": null,
      "outputs": []
    }
  ]
}